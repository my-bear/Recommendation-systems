{
 "cells": [
  {
   "cell_type": "markdown",
   "id": "1b6138ce",
   "metadata": {},
   "source": [
    "## Коллаборативная фильтрация"
   ]
  },
  {
   "cell_type": "code",
   "execution_count": 5,
   "id": "908fede3",
   "metadata": {},
   "outputs": [],
   "source": [
    "from surprise import KNNWithMeans, KNNBasic, KNNWithZScore, KNNBaseline, SVD, NMF, SlopeOne, CoClustering\n",
    "from surprise import Dataset\n",
    "from surprise import accuracy\n",
    "from surprise import Reader\n",
    "from surprise.model_selection import train_test_split\n",
    "from surprise.model_selection import cross_validate\n",
    "import pandas as pd\n",
    "from tqdm import tqdm_notebook"
   ]
  },
  {
   "cell_type": "code",
   "execution_count": 3,
   "id": "82ba205b",
   "metadata": {},
   "outputs": [
    {
     "name": "stdout",
     "output_type": "stream",
     "text": [
      "Trying to download dataset from http://files.grouplens.org/datasets/movielens/ml-1m.zip...\n",
      "Done! Dataset ml-1m has been saved to /Users/mac/.surprise_data/ml-1m\n"
     ]
    }
   ],
   "source": [
    "data =Dataset.load_builtin('ml-1m', prompt=False)"
   ]
  },
  {
   "cell_type": "code",
   "execution_count": 4,
   "id": "70171cb4",
   "metadata": {},
   "outputs": [
    {
     "name": "stdout",
     "output_type": "stream",
     "text": [
      "Estimating biases using als...\n",
      "Computing the pearson similarity matrix...\n",
      "Done computing similarity matrix.\n",
      "Estimating biases using als...\n",
      "Computing the pearson similarity matrix...\n",
      "Done computing similarity matrix.\n",
      "Estimating biases using als...\n",
      "Computing the pearson similarity matrix...\n",
      "Done computing similarity matrix.\n",
      "Estimating biases using als...\n",
      "Computing the pearson similarity matrix...\n",
      "Done computing similarity matrix.\n",
      "Estimating biases using als...\n",
      "Computing the pearson similarity matrix...\n",
      "Done computing similarity matrix.\n",
      "Evaluating RMSE of algorithm KNNBaseline on 5 split(s).\n",
      "\n",
      "                  Fold 1  Fold 2  Fold 3  Fold 4  Fold 5  Mean    Std     \n",
      "RMSE (testset)    0.8935  0.8912  0.8954  0.8929  0.8926  0.8931  0.0014  \n",
      "Fit time          75.05   74.26   72.73   71.69   78.55   74.46   2.36    \n",
      "Test time         123.12  121.02  114.72  113.47  121.87  118.84  3.95    \n"
     ]
    },
    {
     "data": {
      "text/plain": [
       "{'test_rmse': array([0.89354534, 0.89123532, 0.89543695, 0.89289244, 0.89261581]),\n",
       " 'fit_time': (75.05205392837524,\n",
       "  74.25815391540527,\n",
       "  72.72772097587585,\n",
       "  71.68548130989075,\n",
       "  78.55334281921387),\n",
       " 'test_time': (123.12042713165283,\n",
       "  121.01629209518433,\n",
       "  114.71864700317383,\n",
       "  113.46823811531067,\n",
       "  121.87463212013245)}"
      ]
     },
     "execution_count": 4,
     "metadata": {},
     "output_type": "execute_result"
    }
   ],
   "source": [
    "# используем KNNBaseline\n",
    "knn = KNNBaseline(k=50, sim_options={'name': 'pearson', 'user_based': True})\n",
    "cross_validate(knn, data, measures=['RMSE'], cv=5, verbose=True)"
   ]
  },
  {
   "cell_type": "markdown",
   "id": "2c2ee073",
   "metadata": {},
   "source": [
    "#### RMSE = 0.8931"
   ]
  },
  {
   "cell_type": "code",
   "execution_count": 12,
   "id": "ca5e20b3",
   "metadata": {},
   "outputs": [
    {
     "name": "stdout",
     "output_type": "stream",
     "text": [
      "Evaluating RMSE of algorithm KNNBaseline on 10 split(s).\n",
      "\n",
      "                  Fold 1  Fold 2  Fold 3  Fold 4  Fold 5  Fold 6  Fold 7  Fold 8  Fold 9  Fold 10 Mean    Std     \n",
      "RMSE (testset)    0.8543  0.8530  0.8521  0.8520  0.8518  0.8537  0.8566  0.8544  0.8524  0.8537  0.8534  0.0014  \n",
      "Fit time          51.99   53.61   53.06   53.94   54.54   53.84   53.27   52.29   26.68   24.14   47.74   11.20   \n",
      "Test time         65.71   66.25   67.91   67.87   66.96   66.27   65.64   64.36   26.84   26.73   58.45   15.87   \n"
     ]
    },
    {
     "data": {
      "text/plain": [
       "{'test_rmse': array([0.85431475, 0.85303222, 0.85212694, 0.8520048 , 0.85176695,\n",
       "        0.85368734, 0.85660255, 0.85436228, 0.8523704 , 0.85365439]),\n",
       " 'fit_time': (51.9949688911438,\n",
       "  53.6061429977417,\n",
       "  53.06491208076477,\n",
       "  53.93934893608093,\n",
       "  54.54409909248352,\n",
       "  53.8351149559021,\n",
       "  53.27453303337097,\n",
       "  52.285703897476196,\n",
       "  26.675013065338135,\n",
       "  24.14129090309143),\n",
       " 'test_time': (65.70892596244812,\n",
       "  66.248615026474,\n",
       "  67.90751600265503,\n",
       "  67.87251806259155,\n",
       "  66.95928812026978,\n",
       "  66.27396392822266,\n",
       "  65.64045119285583,\n",
       "  64.35517406463623,\n",
       "  26.83880376815796,\n",
       "  26.726853132247925)}"
      ]
     },
     "execution_count": 12,
     "metadata": {},
     "output_type": "execute_result"
    }
   ],
   "source": [
    "bsl_options = {'method': 'als', 'n_epochs': 40, 'reg_u': 6, 'reg_i': 2}\n",
    "\n",
    "knn = KNNBaseline(k=50, bsl_options=bsl_options, sim_options={'name': 'pearson_baseline', 'user_based': False})\n",
    "\n",
    "cross_validate(knn, data, n_jobs=-1, measures=['RMSE'], cv=10, verbose=True)"
   ]
  },
  {
   "cell_type": "markdown",
   "id": "1c38500d",
   "metadata": {},
   "source": [
    "#### RMSE = 0.8534"
   ]
  },
  {
   "cell_type": "code",
   "execution_count": null,
   "id": "e27f2663",
   "metadata": {},
   "outputs": [],
   "source": []
  }
 ],
 "metadata": {
  "kernelspec": {
   "display_name": "Python 3",
   "language": "python",
   "name": "python3"
  },
  "language_info": {
   "codemirror_mode": {
    "name": "ipython",
    "version": 3
   },
   "file_extension": ".py",
   "mimetype": "text/x-python",
   "name": "python",
   "nbconvert_exporter": "python",
   "pygments_lexer": "ipython3",
   "version": "3.9.4"
  }
 },
 "nbformat": 4,
 "nbformat_minor": 5
}
