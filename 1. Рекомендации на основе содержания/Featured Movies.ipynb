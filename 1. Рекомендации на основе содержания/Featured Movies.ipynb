{
 "cells": [
  {
   "cell_type": "code",
   "execution_count": 41,
   "id": "de5d3bca",
   "metadata": {},
   "outputs": [],
   "source": [
    "import pandas as pd\n",
    "import numpy as np\n",
    "\n",
    "from tqdm.notebook import tqdm\n",
    "from sklearn.model_selection import train_test_split\n",
    "from sklearn.feature_extraction.text import TfidfTransformer, CountVectorizer\n",
    "from sklearn.neighbors import KNeighborsRegressor\n",
    "\n",
    "%matplotlib inline"
   ]
  },
  {
   "cell_type": "code",
   "execution_count": 2,
   "id": "3e67e74b",
   "metadata": {},
   "outputs": [],
   "source": [
    "path = '/Users/mac/Desktop/Netology/Pychon/10. Продвинутый pandas/Python_2_join/ml-latest-small'"
   ]
  },
  {
   "cell_type": "code",
   "execution_count": 3,
   "id": "f355df03",
   "metadata": {},
   "outputs": [],
   "source": [
    "links = pd.read_csv(path + '/links.csv')\n",
    "movies = pd.read_csv(path + '/movies.csv')\n",
    "ratings = pd.read_csv(path + '/ratings.csv')\n",
    "tags = pd.read_csv(path + '/tags.csv')"
   ]
  },
  {
   "cell_type": "code",
   "execution_count": 4,
   "id": "8b5c0fb8",
   "metadata": {},
   "outputs": [
    {
     "data": {
      "text/html": [
       "<div>\n",
       "<style scoped>\n",
       "    .dataframe tbody tr th:only-of-type {\n",
       "        vertical-align: middle;\n",
       "    }\n",
       "\n",
       "    .dataframe tbody tr th {\n",
       "        vertical-align: top;\n",
       "    }\n",
       "\n",
       "    .dataframe thead th {\n",
       "        text-align: right;\n",
       "    }\n",
       "</style>\n",
       "<table border=\"1\" class=\"dataframe\">\n",
       "  <thead>\n",
       "    <tr style=\"text-align: right;\">\n",
       "      <th></th>\n",
       "      <th>movieId</th>\n",
       "      <th>title</th>\n",
       "      <th>genres</th>\n",
       "    </tr>\n",
       "  </thead>\n",
       "  <tbody>\n",
       "    <tr>\n",
       "      <th>0</th>\n",
       "      <td>1</td>\n",
       "      <td>Toy Story (1995)</td>\n",
       "      <td>Adventure|Animation|Children|Comedy|Fantasy</td>\n",
       "    </tr>\n",
       "    <tr>\n",
       "      <th>1</th>\n",
       "      <td>2</td>\n",
       "      <td>Jumanji (1995)</td>\n",
       "      <td>Adventure|Children|Fantasy</td>\n",
       "    </tr>\n",
       "    <tr>\n",
       "      <th>2</th>\n",
       "      <td>3</td>\n",
       "      <td>Grumpier Old Men (1995)</td>\n",
       "      <td>Comedy|Romance</td>\n",
       "    </tr>\n",
       "    <tr>\n",
       "      <th>3</th>\n",
       "      <td>4</td>\n",
       "      <td>Waiting to Exhale (1995)</td>\n",
       "      <td>Comedy|Drama|Romance</td>\n",
       "    </tr>\n",
       "    <tr>\n",
       "      <th>4</th>\n",
       "      <td>5</td>\n",
       "      <td>Father of the Bride Part II (1995)</td>\n",
       "      <td>Comedy</td>\n",
       "    </tr>\n",
       "  </tbody>\n",
       "</table>\n",
       "</div>"
      ],
      "text/plain": [
       "   movieId                               title  \\\n",
       "0        1                    Toy Story (1995)   \n",
       "1        2                      Jumanji (1995)   \n",
       "2        3             Grumpier Old Men (1995)   \n",
       "3        4            Waiting to Exhale (1995)   \n",
       "4        5  Father of the Bride Part II (1995)   \n",
       "\n",
       "                                        genres  \n",
       "0  Adventure|Animation|Children|Comedy|Fantasy  \n",
       "1                   Adventure|Children|Fantasy  \n",
       "2                               Comedy|Romance  \n",
       "3                         Comedy|Drama|Romance  \n",
       "4                                       Comedy  "
      ]
     },
     "execution_count": 4,
     "metadata": {},
     "output_type": "execute_result"
    }
   ],
   "source": [
    "movies.head()"
   ]
  },
  {
   "cell_type": "code",
   "execution_count": 5,
   "id": "319c85c6",
   "metadata": {},
   "outputs": [],
   "source": [
    "def change_string(row):\n",
    "    return ' '.join(row.replace(' ', '').replace('-','').split('|'))"
   ]
  },
  {
   "cell_type": "code",
   "execution_count": 9,
   "id": "0f7639fa",
   "metadata": {},
   "outputs": [
    {
     "data": {
      "text/html": [
       "<div>\n",
       "<style scoped>\n",
       "    .dataframe tbody tr th:only-of-type {\n",
       "        vertical-align: middle;\n",
       "    }\n",
       "\n",
       "    .dataframe tbody tr th {\n",
       "        vertical-align: top;\n",
       "    }\n",
       "\n",
       "    .dataframe thead th {\n",
       "        text-align: right;\n",
       "    }\n",
       "</style>\n",
       "<table border=\"1\" class=\"dataframe\">\n",
       "  <thead>\n",
       "    <tr style=\"text-align: right;\">\n",
       "      <th></th>\n",
       "      <th>genres</th>\n",
       "    </tr>\n",
       "  </thead>\n",
       "  <tbody>\n",
       "    <tr>\n",
       "      <th>0</th>\n",
       "      <td>Adventure Animation Children Comedy Fantasy</td>\n",
       "    </tr>\n",
       "    <tr>\n",
       "      <th>1</th>\n",
       "      <td>Adventure Children Fantasy</td>\n",
       "    </tr>\n",
       "    <tr>\n",
       "      <th>2</th>\n",
       "      <td>Comedy Romance</td>\n",
       "    </tr>\n",
       "    <tr>\n",
       "      <th>3</th>\n",
       "      <td>Comedy Drama Romance</td>\n",
       "    </tr>\n",
       "    <tr>\n",
       "      <th>4</th>\n",
       "      <td>Comedy</td>\n",
       "    </tr>\n",
       "  </tbody>\n",
       "</table>\n",
       "</div>"
      ],
      "text/plain": [
       "                                        genres\n",
       "0  Adventure Animation Children Comedy Fantasy\n",
       "1                   Adventure Children Fantasy\n",
       "2                               Comedy Romance\n",
       "3                         Comedy Drama Romance\n",
       "4                                       Comedy"
      ]
     },
     "execution_count": 9,
     "metadata": {},
     "output_type": "execute_result"
    }
   ],
   "source": [
    "movie_genres = movies['genres'].apply(change_string)\n",
    "movie_genres = pd.DataFrame(movie_genres)\n",
    "movie_genres.head()"
   ]
  },
  {
   "cell_type": "code",
   "execution_count": 8,
   "id": "51bb98ab",
   "metadata": {},
   "outputs": [
    {
     "data": {
      "text/html": [
       "<div>\n",
       "<style scoped>\n",
       "    .dataframe tbody tr th:only-of-type {\n",
       "        vertical-align: middle;\n",
       "    }\n",
       "\n",
       "    .dataframe tbody tr th {\n",
       "        vertical-align: top;\n",
       "    }\n",
       "\n",
       "    .dataframe thead th {\n",
       "        text-align: right;\n",
       "    }\n",
       "</style>\n",
       "<table border=\"1\" class=\"dataframe\">\n",
       "  <thead>\n",
       "    <tr style=\"text-align: right;\">\n",
       "      <th></th>\n",
       "      <th>movieId</th>\n",
       "      <th>title</th>\n",
       "      <th>genres</th>\n",
       "    </tr>\n",
       "  </thead>\n",
       "  <tbody>\n",
       "    <tr>\n",
       "      <th>2872</th>\n",
       "      <td>3598</td>\n",
       "      <td>Hamlet (2000)</td>\n",
       "      <td>Crime|Drama|Romance|Thriller</td>\n",
       "    </tr>\n",
       "    <tr>\n",
       "      <th>7151</th>\n",
       "      <td>65665</td>\n",
       "      <td>Hamlet (2000)</td>\n",
       "      <td>Drama</td>\n",
       "    </tr>\n",
       "    <tr>\n",
       "      <th>6172</th>\n",
       "      <td>34048</td>\n",
       "      <td>War of the Worlds (2005)</td>\n",
       "      <td>Action|Adventure|Sci-Fi|Thriller</td>\n",
       "    </tr>\n",
       "    <tr>\n",
       "      <th>7127</th>\n",
       "      <td>64997</td>\n",
       "      <td>War of the Worlds (2005)</td>\n",
       "      <td>Action|Sci-Fi</td>\n",
       "    </tr>\n",
       "  </tbody>\n",
       "</table>\n",
       "</div>"
      ],
      "text/plain": [
       "      movieId                     title                            genres\n",
       "2872     3598             Hamlet (2000)      Crime|Drama|Romance|Thriller\n",
       "7151    65665             Hamlet (2000)                             Drama\n",
       "6172    34048  War of the Worlds (2005)  Action|Adventure|Sci-Fi|Thriller\n",
       "7127    64997  War of the Worlds (2005)                     Action|Sci-Fi"
      ]
     },
     "execution_count": 8,
     "metadata": {},
     "output_type": "execute_result"
    }
   ],
   "source": [
    "# найдем дублирующиеся строки с фильмами\n",
    "dup = movies[movies.title.duplicated()==True]['title'].to_list()\n",
    "movies[movies.title.isin(dup)].sort_values(by='title')"
   ]
  },
  {
   "cell_type": "code",
   "execution_count": 10,
   "id": "56fbb479",
   "metadata": {},
   "outputs": [],
   "source": [
    "# удалим менее информативные строки с жанрами для дублирующихся фильмов\n",
    "movies.drop([7151, 7127], inplace=True)"
   ]
  },
  {
   "cell_type": "code",
   "execution_count": 30,
   "id": "df7b72fa",
   "metadata": {},
   "outputs": [
    {
     "data": {
      "text/html": [
       "<div>\n",
       "<style scoped>\n",
       "    .dataframe tbody tr th:only-of-type {\n",
       "        vertical-align: middle;\n",
       "    }\n",
       "\n",
       "    .dataframe tbody tr th {\n",
       "        vertical-align: top;\n",
       "    }\n",
       "\n",
       "    .dataframe thead th {\n",
       "        text-align: right;\n",
       "    }\n",
       "</style>\n",
       "<table border=\"1\" class=\"dataframe\">\n",
       "  <thead>\n",
       "    <tr style=\"text-align: right;\">\n",
       "      <th></th>\n",
       "      <th>movieId</th>\n",
       "      <th>title</th>\n",
       "      <th>genres</th>\n",
       "      <th>tag</th>\n",
       "    </tr>\n",
       "  </thead>\n",
       "  <tbody>\n",
       "    <tr>\n",
       "      <th>0</th>\n",
       "      <td>1</td>\n",
       "      <td>Toy Story (1995)</td>\n",
       "      <td>Adventure Animation Children Comedy Fantasy</td>\n",
       "      <td>Pixar</td>\n",
       "    </tr>\n",
       "    <tr>\n",
       "      <th>1</th>\n",
       "      <td>2</td>\n",
       "      <td>Jumanji (1995)</td>\n",
       "      <td>Adventure Children Fantasy</td>\n",
       "      <td>NaN</td>\n",
       "    </tr>\n",
       "    <tr>\n",
       "      <th>2</th>\n",
       "      <td>3</td>\n",
       "      <td>Grumpier Old Men (1995)</td>\n",
       "      <td>Comedy Romance</td>\n",
       "      <td>NaN</td>\n",
       "    </tr>\n",
       "    <tr>\n",
       "      <th>3</th>\n",
       "      <td>4</td>\n",
       "      <td>Waiting to Exhale (1995)</td>\n",
       "      <td>Comedy Drama Romance</td>\n",
       "      <td>NaN</td>\n",
       "    </tr>\n",
       "    <tr>\n",
       "      <th>4</th>\n",
       "      <td>5</td>\n",
       "      <td>Father of the Bride Part II (1995)</td>\n",
       "      <td>Comedy</td>\n",
       "      <td>steve martin</td>\n",
       "    </tr>\n",
       "  </tbody>\n",
       "</table>\n",
       "</div>"
      ],
      "text/plain": [
       "   movieId                               title  \\\n",
       "0        1                    Toy Story (1995)   \n",
       "1        2                      Jumanji (1995)   \n",
       "2        3             Grumpier Old Men (1995)   \n",
       "3        4            Waiting to Exhale (1995)   \n",
       "4        5  Father of the Bride Part II (1995)   \n",
       "\n",
       "                                        genres           tag  \n",
       "0  Adventure Animation Children Comedy Fantasy         Pixar  \n",
       "1                   Adventure Children Fantasy           NaN  \n",
       "2                               Comedy Romance           NaN  \n",
       "3                         Comedy Drama Romance           NaN  \n",
       "4                                       Comedy  steve martin  "
      ]
     },
     "execution_count": 30,
     "metadata": {},
     "output_type": "execute_result"
    }
   ],
   "source": [
    "# добавим тэги\n",
    "movies_tags = movies.join(tags.set_index('movieId'), on='movieId')\n",
    "movies_tags['genres'] = movies_tags['genres'].apply(change_string)\n",
    "movies_tags = movies_tags.drop(['userId', 'timestamp'],1)\n",
    "movies_tags.head()"
   ]
  },
  {
   "cell_type": "code",
   "execution_count": 35,
   "id": "fdeb7918",
   "metadata": {},
   "outputs": [],
   "source": [
    "ratings = ratings.drop(['userId','timestamp'],axis=1)"
   ]
  },
  {
   "cell_type": "code",
   "execution_count": 36,
   "id": "3871c95d",
   "metadata": {},
   "outputs": [],
   "source": [
    "# Получим средний и медианный рейтинг фильма\n",
    "mean_ratings = ratings.groupby('movieId').mean()\n",
    "mean_ratings.rename(columns = {'rating':'mean_ratings'}, inplace = True)\n",
    "\n",
    "median_ratings = ratings.groupby('movieId').median()\n",
    "median_ratings.rename(columns = {'rating':'med_ratings'}, inplace = True)\n",
    "\n",
    "variance_ratings = ratings.groupby('movieId').var()\n",
    "variance_ratings.rename(columns = {'rating':'var_ratings'}, inplace = True)\n",
    "\n",
    "# добавим колонку со средним и медианным рейтингом фильма\n",
    "movies_tags_ratings = movies_tags.join(mean_ratings, on='movieId')\n",
    "movies_tags_ratings = movies_tags_ratings.join(median_ratings, on='movieId')\n",
    "movies_tags_ratings = movies_tags_ratings.join(variance_ratings, on='movieId')"
   ]
  },
  {
   "cell_type": "code",
   "execution_count": 37,
   "id": "0461cf8d",
   "metadata": {},
   "outputs": [
    {
     "data": {
      "text/html": [
       "<div>\n",
       "<style scoped>\n",
       "    .dataframe tbody tr th:only-of-type {\n",
       "        vertical-align: middle;\n",
       "    }\n",
       "\n",
       "    .dataframe tbody tr th {\n",
       "        vertical-align: top;\n",
       "    }\n",
       "\n",
       "    .dataframe thead th {\n",
       "        text-align: right;\n",
       "    }\n",
       "</style>\n",
       "<table border=\"1\" class=\"dataframe\">\n",
       "  <thead>\n",
       "    <tr style=\"text-align: right;\">\n",
       "      <th></th>\n",
       "      <th>movieId</th>\n",
       "      <th>title</th>\n",
       "      <th>genres</th>\n",
       "      <th>tag</th>\n",
       "      <th>mean_ratings</th>\n",
       "      <th>med_ratings</th>\n",
       "      <th>var_ratings</th>\n",
       "    </tr>\n",
       "  </thead>\n",
       "  <tbody>\n",
       "    <tr>\n",
       "      <th>0</th>\n",
       "      <td>1</td>\n",
       "      <td>Toy Story (1995)</td>\n",
       "      <td>Adventure Animation Children Comedy Fantasy</td>\n",
       "      <td>Pixar</td>\n",
       "      <td>3.872470</td>\n",
       "      <td>4.0</td>\n",
       "      <td>0.919646</td>\n",
       "    </tr>\n",
       "    <tr>\n",
       "      <th>1</th>\n",
       "      <td>2</td>\n",
       "      <td>Jumanji (1995)</td>\n",
       "      <td>Adventure Children Fantasy</td>\n",
       "      <td>NaN</td>\n",
       "      <td>3.401869</td>\n",
       "      <td>3.0</td>\n",
       "      <td>0.775657</td>\n",
       "    </tr>\n",
       "    <tr>\n",
       "      <th>2</th>\n",
       "      <td>3</td>\n",
       "      <td>Grumpier Old Men (1995)</td>\n",
       "      <td>Comedy Romance</td>\n",
       "      <td>NaN</td>\n",
       "      <td>3.161017</td>\n",
       "      <td>3.0</td>\n",
       "      <td>1.322764</td>\n",
       "    </tr>\n",
       "    <tr>\n",
       "      <th>3</th>\n",
       "      <td>4</td>\n",
       "      <td>Waiting to Exhale (1995)</td>\n",
       "      <td>Comedy Drama Romance</td>\n",
       "      <td>NaN</td>\n",
       "      <td>2.384615</td>\n",
       "      <td>3.0</td>\n",
       "      <td>0.881410</td>\n",
       "    </tr>\n",
       "    <tr>\n",
       "      <th>4</th>\n",
       "      <td>5</td>\n",
       "      <td>Father of the Bride Part II (1995)</td>\n",
       "      <td>Comedy</td>\n",
       "      <td>steve martin</td>\n",
       "      <td>3.267857</td>\n",
       "      <td>3.0</td>\n",
       "      <td>0.899675</td>\n",
       "    </tr>\n",
       "  </tbody>\n",
       "</table>\n",
       "</div>"
      ],
      "text/plain": [
       "   movieId                               title  \\\n",
       "0        1                    Toy Story (1995)   \n",
       "1        2                      Jumanji (1995)   \n",
       "2        3             Grumpier Old Men (1995)   \n",
       "3        4            Waiting to Exhale (1995)   \n",
       "4        5  Father of the Bride Part II (1995)   \n",
       "\n",
       "                                        genres           tag  mean_ratings  \\\n",
       "0  Adventure Animation Children Comedy Fantasy         Pixar      3.872470   \n",
       "1                   Adventure Children Fantasy           NaN      3.401869   \n",
       "2                               Comedy Romance           NaN      3.161017   \n",
       "3                         Comedy Drama Romance           NaN      2.384615   \n",
       "4                                       Comedy  steve martin      3.267857   \n",
       "\n",
       "   med_ratings  var_ratings  \n",
       "0          4.0     0.919646  \n",
       "1          3.0     0.775657  \n",
       "2          3.0     1.322764  \n",
       "3          3.0     0.881410  \n",
       "4          3.0     0.899675  "
      ]
     },
     "execution_count": 37,
     "metadata": {},
     "output_type": "execute_result"
    }
   ],
   "source": [
    "movies_tags_ratings.head()"
   ]
  },
  {
   "cell_type": "markdown",
   "id": "ab7b27a7",
   "metadata": {},
   "source": [
    "### Построим рекомендацию по жанрам"
   ]
  },
  {
   "cell_type": "code",
   "execution_count": 65,
   "id": "991942f4",
   "metadata": {},
   "outputs": [],
   "source": [
    "# получим список жанров\n",
    "genres = movies_tags_ratings['genres'].to_list()"
   ]
  },
  {
   "cell_type": "code",
   "execution_count": 66,
   "id": "71af0efc",
   "metadata": {},
   "outputs": [
    {
     "data": {
      "text/plain": [
       "KNeighborsRegressor(metric='euclidean', n_jobs=-1, n_neighbors=7)"
      ]
     },
     "execution_count": 66,
     "metadata": {},
     "output_type": "execute_result"
    }
   ],
   "source": [
    "CV = CountVectorizer()\n",
    "genres_CV = CV.fit_transform(genres)\n",
    "\n",
    "Tf = TfidfTransformer()\n",
    "genres_Tf = Tf.fit_transform(X_train_counts)\n",
    "\n",
    "model = KNeighborsRegressor(n_neighbors=7, n_jobs=-1, metric='euclidean')\n",
    "model.fit(genres_CV, genres_Tf)"
   ]
  },
  {
   "cell_type": "code",
   "execution_count": 68,
   "id": "af7917e7",
   "metadata": {},
   "outputs": [
    {
     "data": {
      "text/plain": [
       "(array([[0.88767951, 0.88767951, 0.88767951, 0.88767951, 0.88767951,\n",
       "         0.88767951, 0.88767951]]),\n",
       " array([[4095, 7806, 1846, 9332, 6050, 4563, 4633]]))"
      ]
     },
     "execution_count": 68,
     "metadata": {},
     "output_type": "execute_result"
    }
   ],
   "source": [
    "# проверим на тесте\n",
    "\n",
    "test = change_string('Adventure|Comedy|Fantasy|Crime')\n",
    "\n",
    "# test = G_test.apply(change_string)\n",
    "\n",
    "predict_genres = CV.transform([test])\n",
    "predict_genres = Tf.transform(predict_genres)\n",
    "\n",
    "predicted_movies = model.kneighbors(predict_genres, return_distance=True)\n",
    "predicted_movies"
   ]
  },
  {
   "cell_type": "code",
   "execution_count": 60,
   "id": "1151c51a",
   "metadata": {},
   "outputs": [
    {
     "data": {
      "text/html": [
       "<div>\n",
       "<style scoped>\n",
       "    .dataframe tbody tr th:only-of-type {\n",
       "        vertical-align: middle;\n",
       "    }\n",
       "\n",
       "    .dataframe tbody tr th {\n",
       "        vertical-align: top;\n",
       "    }\n",
       "\n",
       "    .dataframe thead th {\n",
       "        text-align: right;\n",
       "    }\n",
       "</style>\n",
       "<table border=\"1\" class=\"dataframe\">\n",
       "  <thead>\n",
       "    <tr style=\"text-align: right;\">\n",
       "      <th></th>\n",
       "      <th>movieId</th>\n",
       "      <th>title</th>\n",
       "      <th>genres</th>\n",
       "      <th>tag</th>\n",
       "      <th>mean_ratings</th>\n",
       "      <th>med_ratings</th>\n",
       "      <th>var_ratings</th>\n",
       "    </tr>\n",
       "  </thead>\n",
       "  <tbody>\n",
       "    <tr>\n",
       "      <th>4155</th>\n",
       "      <td>5473</td>\n",
       "      <td>Fox and His Friends (Faustrecht der Freiheit) ...</td>\n",
       "      <td>Drama</td>\n",
       "      <td>NaN</td>\n",
       "      <td>5.000000</td>\n",
       "      <td>5.00</td>\n",
       "      <td>NaN</td>\n",
       "    </tr>\n",
       "    <tr>\n",
       "      <th>4165</th>\n",
       "      <td>5498</td>\n",
       "      <td>Red Beard (Akahige) (1965)</td>\n",
       "      <td>Drama</td>\n",
       "      <td>NaN</td>\n",
       "      <td>4.750000</td>\n",
       "      <td>4.75</td>\n",
       "      <td>0.125000</td>\n",
       "    </tr>\n",
       "    <tr>\n",
       "      <th>4136</th>\n",
       "      <td>5440</td>\n",
       "      <td>She Wore a Yellow Ribbon (1949)</td>\n",
       "      <td>Western</td>\n",
       "      <td>NaN</td>\n",
       "      <td>4.500000</td>\n",
       "      <td>4.50</td>\n",
       "      <td>NaN</td>\n",
       "    </tr>\n",
       "    <tr>\n",
       "      <th>4162</th>\n",
       "      <td>5483</td>\n",
       "      <td>Kid Stays in the Picture, The (2002)</td>\n",
       "      <td>Documentary</td>\n",
       "      <td>NaN</td>\n",
       "      <td>3.600000</td>\n",
       "      <td>4.00</td>\n",
       "      <td>0.425000</td>\n",
       "    </tr>\n",
       "    <tr>\n",
       "      <th>4163</th>\n",
       "      <td>5489</td>\n",
       "      <td>Nosferatu the Vampyre (Nosferatu: Phantom der ...</td>\n",
       "      <td>Horror</td>\n",
       "      <td>NaN</td>\n",
       "      <td>3.416667</td>\n",
       "      <td>3.25</td>\n",
       "      <td>0.741667</td>\n",
       "    </tr>\n",
       "    <tr>\n",
       "      <th>4141</th>\n",
       "      <td>5447</td>\n",
       "      <td>Sunshine State (2002)</td>\n",
       "      <td>Drama</td>\n",
       "      <td>NaN</td>\n",
       "      <td>3.166667</td>\n",
       "      <td>3.00</td>\n",
       "      <td>0.583333</td>\n",
       "    </tr>\n",
       "    <tr>\n",
       "      <th>4161</th>\n",
       "      <td>5481</td>\n",
       "      <td>Austin Powers in Goldmember (2002)</td>\n",
       "      <td>Comedy</td>\n",
       "      <td>mike myers</td>\n",
       "      <td>2.911111</td>\n",
       "      <td>3.00</td>\n",
       "      <td>1.321465</td>\n",
       "    </tr>\n",
       "  </tbody>\n",
       "</table>\n",
       "</div>"
      ],
      "text/plain": [
       "      movieId                                              title       genres  \\\n",
       "4155     5473  Fox and His Friends (Faustrecht der Freiheit) ...        Drama   \n",
       "4165     5498                         Red Beard (Akahige) (1965)        Drama   \n",
       "4136     5440                    She Wore a Yellow Ribbon (1949)      Western   \n",
       "4162     5483               Kid Stays in the Picture, The (2002)  Documentary   \n",
       "4163     5489  Nosferatu the Vampyre (Nosferatu: Phantom der ...       Horror   \n",
       "4141     5447                              Sunshine State (2002)        Drama   \n",
       "4161     5481                 Austin Powers in Goldmember (2002)       Comedy   \n",
       "\n",
       "             tag  mean_ratings  med_ratings  var_ratings  \n",
       "4155         NaN      5.000000         5.00          NaN  \n",
       "4165         NaN      4.750000         4.75     0.125000  \n",
       "4136         NaN      4.500000         4.50          NaN  \n",
       "4162         NaN      3.600000         4.00     0.425000  \n",
       "4163         NaN      3.416667         3.25     0.741667  \n",
       "4141         NaN      3.166667         3.00     0.583333  \n",
       "4161  mike myers      2.911111         3.00     1.321465  "
      ]
     },
     "execution_count": 60,
     "metadata": {},
     "output_type": "execute_result"
    }
   ],
   "source": [
    "# выведем список фильмов в порядке убавания рейтинга\n",
    "movies_tags_ratings.iloc[predicted_movies[1][0]].sort_values(by=['mean_ratings'], ascending=False)"
   ]
  },
  {
   "cell_type": "markdown",
   "id": "a655a45d",
   "metadata": {},
   "source": [
    "### Построим рекомендацию по тегам"
   ]
  },
  {
   "cell_type": "code",
   "execution_count": 70,
   "id": "3593e16f",
   "metadata": {},
   "outputs": [
    {
     "data": {
      "text/plain": [
       "583"
      ]
     },
     "execution_count": 70,
     "metadata": {},
     "output_type": "execute_result"
    }
   ],
   "source": [
    "# проверим кол-во уникальных тегов\n",
    "movies_tags_ratings.tag.unique().shape[0]"
   ]
  },
  {
   "cell_type": "code",
   "execution_count": 71,
   "id": "aa012b00",
   "metadata": {},
   "outputs": [],
   "source": [
    "# удалим фильмы с отсутствующими тегами\n",
    "movies_tags_ratings = movies_tags_ratings.dropna()"
   ]
  },
  {
   "cell_type": "code",
   "execution_count": 72,
   "id": "275b4cf7",
   "metadata": {},
   "outputs": [
    {
     "data": {
      "text/plain": [
       "KNeighborsRegressor(metric='manhattan', n_jobs=-1, n_neighbors=10)"
      ]
     },
     "execution_count": 72,
     "metadata": {},
     "output_type": "execute_result"
    }
   ],
   "source": [
    "# получим список тегов\n",
    "tag = movies_tags_ratings.tag.to_list()\n",
    "\n",
    "# обучим модель\n",
    "tag_CV = CV.fit_transform(tag)\n",
    "\n",
    "tag_Tf = Tf.fit_transform(tag_CV)\n",
    "\n",
    "model = KNeighborsRegressor(n_neighbors=10, n_jobs=-1, metric='manhattan')\n",
    "model.fit(tag_CV, tag_Tf)"
   ]
  },
  {
   "cell_type": "code",
   "execution_count": 74,
   "id": "6fd3a715",
   "metadata": {},
   "outputs": [
    {
     "data": {
      "text/plain": [
       "(array([[2., 2., 2., 2., 2., 2., 2., 2., 2., 2.]]),\n",
       " array([[709, 707, 716, 715, 714, 710, 718, 702, 704, 719]]))"
      ]
     },
     "execution_count": 74,
     "metadata": {},
     "output_type": "execute_result"
    }
   ],
   "source": [
    "# возьмем теги 'scifi timetravel fun'\n",
    "test_tags = 'scifi timetravel fun'\n",
    "\n",
    "predict_tags = CV.transform([test_tags])\n",
    "predict_tags = Tf.transform(predict_tags)\n",
    "\n",
    "predicted_teg = model.kneighbors(predict_tags, return_distance=True)\n",
    "predicted_teg"
   ]
  },
  {
   "cell_type": "code",
   "execution_count": 75,
   "id": "c9be9ade",
   "metadata": {},
   "outputs": [
    {
     "data": {
      "text/html": [
       "<div>\n",
       "<style scoped>\n",
       "    .dataframe tbody tr th:only-of-type {\n",
       "        vertical-align: middle;\n",
       "    }\n",
       "\n",
       "    .dataframe tbody tr th {\n",
       "        vertical-align: top;\n",
       "    }\n",
       "\n",
       "    .dataframe thead th {\n",
       "        text-align: right;\n",
       "    }\n",
       "</style>\n",
       "<table border=\"1\" class=\"dataframe\">\n",
       "  <thead>\n",
       "    <tr style=\"text-align: right;\">\n",
       "      <th></th>\n",
       "      <th>movieId</th>\n",
       "      <th>title</th>\n",
       "      <th>genres</th>\n",
       "      <th>tag</th>\n",
       "      <th>mean_ratings</th>\n",
       "      <th>med_ratings</th>\n",
       "      <th>var_ratings</th>\n",
       "    </tr>\n",
       "  </thead>\n",
       "  <tbody>\n",
       "    <tr>\n",
       "      <th>6539</th>\n",
       "      <td>48516</td>\n",
       "      <td>Departed, The (2006)</td>\n",
       "      <td>Crime Drama Thriller</td>\n",
       "      <td>toplist06</td>\n",
       "      <td>4.202381</td>\n",
       "      <td>4.50</td>\n",
       "      <td>0.488669</td>\n",
       "    </tr>\n",
       "    <tr>\n",
       "      <th>6556</th>\n",
       "      <td>48780</td>\n",
       "      <td>Prestige, The (2006)</td>\n",
       "      <td>Drama Mystery SciFi Thriller</td>\n",
       "      <td>nonlinear</td>\n",
       "      <td>4.125000</td>\n",
       "      <td>4.50</td>\n",
       "      <td>0.763480</td>\n",
       "    </tr>\n",
       "    <tr>\n",
       "      <th>6556</th>\n",
       "      <td>48780</td>\n",
       "      <td>Prestige, The (2006)</td>\n",
       "      <td>Drama Mystery SciFi Thriller</td>\n",
       "      <td>complicated</td>\n",
       "      <td>4.125000</td>\n",
       "      <td>4.50</td>\n",
       "      <td>0.763480</td>\n",
       "    </tr>\n",
       "    <tr>\n",
       "      <th>6556</th>\n",
       "      <td>48780</td>\n",
       "      <td>Prestige, The (2006)</td>\n",
       "      <td>Drama Mystery SciFi Thriller</td>\n",
       "      <td>psychological</td>\n",
       "      <td>4.125000</td>\n",
       "      <td>4.50</td>\n",
       "      <td>0.763480</td>\n",
       "    </tr>\n",
       "    <tr>\n",
       "      <th>6601</th>\n",
       "      <td>50068</td>\n",
       "      <td>Letters from Iwo Jima (2006)</td>\n",
       "      <td>Drama War</td>\n",
       "      <td>holes00s</td>\n",
       "      <td>4.045455</td>\n",
       "      <td>4.00</td>\n",
       "      <td>0.422727</td>\n",
       "    </tr>\n",
       "    <tr>\n",
       "      <th>6552</th>\n",
       "      <td>48738</td>\n",
       "      <td>Last King of Scotland, The (2006)</td>\n",
       "      <td>Drama Thriller</td>\n",
       "      <td>toplist06</td>\n",
       "      <td>4.033333</td>\n",
       "      <td>4.00</td>\n",
       "      <td>0.195238</td>\n",
       "    </tr>\n",
       "    <tr>\n",
       "      <th>6652</th>\n",
       "      <td>51540</td>\n",
       "      <td>Zodiac (2007)</td>\n",
       "      <td>Crime Drama Thriller</td>\n",
       "      <td>toplist07</td>\n",
       "      <td>3.925000</td>\n",
       "      <td>4.00</td>\n",
       "      <td>0.480921</td>\n",
       "    </tr>\n",
       "    <tr>\n",
       "      <th>6669</th>\n",
       "      <td>52281</td>\n",
       "      <td>Grindhouse (2007)</td>\n",
       "      <td>Action Crime Horror SciFi Thriller</td>\n",
       "      <td>hdtv</td>\n",
       "      <td>3.666667</td>\n",
       "      <td>3.50</td>\n",
       "      <td>0.441176</td>\n",
       "    </tr>\n",
       "    <tr>\n",
       "      <th>6669</th>\n",
       "      <td>52281</td>\n",
       "      <td>Grindhouse (2007)</td>\n",
       "      <td>Action Crime Horror SciFi Thriller</td>\n",
       "      <td>holes00s</td>\n",
       "      <td>3.666667</td>\n",
       "      <td>3.50</td>\n",
       "      <td>0.441176</td>\n",
       "    </tr>\n",
       "    <tr>\n",
       "      <th>6591</th>\n",
       "      <td>49824</td>\n",
       "      <td>Dreamgirls (2006)</td>\n",
       "      <td>Drama Musical</td>\n",
       "      <td>toplist06</td>\n",
       "      <td>3.250000</td>\n",
       "      <td>3.25</td>\n",
       "      <td>1.416667</td>\n",
       "    </tr>\n",
       "  </tbody>\n",
       "</table>\n",
       "</div>"
      ],
      "text/plain": [
       "      movieId                              title  \\\n",
       "6539    48516               Departed, The (2006)   \n",
       "6556    48780               Prestige, The (2006)   \n",
       "6556    48780               Prestige, The (2006)   \n",
       "6556    48780               Prestige, The (2006)   \n",
       "6601    50068       Letters from Iwo Jima (2006)   \n",
       "6552    48738  Last King of Scotland, The (2006)   \n",
       "6652    51540                      Zodiac (2007)   \n",
       "6669    52281                  Grindhouse (2007)   \n",
       "6669    52281                  Grindhouse (2007)   \n",
       "6591    49824                  Dreamgirls (2006)   \n",
       "\n",
       "                                  genres            tag  mean_ratings  \\\n",
       "6539                Crime Drama Thriller      toplist06      4.202381   \n",
       "6556        Drama Mystery SciFi Thriller      nonlinear      4.125000   \n",
       "6556        Drama Mystery SciFi Thriller    complicated      4.125000   \n",
       "6556        Drama Mystery SciFi Thriller  psychological      4.125000   \n",
       "6601                           Drama War       holes00s      4.045455   \n",
       "6552                      Drama Thriller      toplist06      4.033333   \n",
       "6652                Crime Drama Thriller      toplist07      3.925000   \n",
       "6669  Action Crime Horror SciFi Thriller           hdtv      3.666667   \n",
       "6669  Action Crime Horror SciFi Thriller       holes00s      3.666667   \n",
       "6591                       Drama Musical      toplist06      3.250000   \n",
       "\n",
       "      med_ratings  var_ratings  \n",
       "6539         4.50     0.488669  \n",
       "6556         4.50     0.763480  \n",
       "6556         4.50     0.763480  \n",
       "6556         4.50     0.763480  \n",
       "6601         4.00     0.422727  \n",
       "6552         4.00     0.195238  \n",
       "6652         4.00     0.480921  \n",
       "6669         3.50     0.441176  \n",
       "6669         3.50     0.441176  \n",
       "6591         3.25     1.416667  "
      ]
     },
     "execution_count": 75,
     "metadata": {},
     "output_type": "execute_result"
    }
   ],
   "source": [
    "# выведем список фильмов в порядке убавания рейтинга\n",
    "movies_tags_ratings.iloc[predicted_teg[1][0]].sort_values(by=['mean_ratings'], ascending=False)"
   ]
  },
  {
   "cell_type": "markdown",
   "id": "6c85f269",
   "metadata": {},
   "source": [
    "### Оценить RMSE на тестовой выборке"
   ]
  },
  {
   "cell_type": "code",
   "execution_count": 76,
   "id": "af02fc86",
   "metadata": {},
   "outputs": [],
   "source": [
    "from sklearn.model_selection import train_test_split\n",
    "from sklearn.metrics import mean_squared_error"
   ]
  },
  {
   "cell_type": "code",
   "execution_count": 79,
   "id": "681c8e51",
   "metadata": {},
   "outputs": [],
   "source": [
    "# разделим на train, test\n",
    "X_train, X_test, y_train, y_test = train_test_split(movies_tags_ratings.drop(['mean_ratings'], axis=1), \n",
    "                                                    movies_tags_ratings.mean_ratings, test_size=0.3, \n",
    "                                                    random_state=42)\n",
    "train_df = pd.concat([X_train, y_train], axis=1)\n",
    "test_df = pd.concat([X_test, y_test], axis=1)"
   ]
  },
  {
   "cell_type": "code",
   "execution_count": 80,
   "id": "cbf8ca05",
   "metadata": {},
   "outputs": [
    {
     "data": {
      "text/plain": [
       "KNeighborsRegressor(metric='manhattan', n_jobs=-1, n_neighbors=10)"
      ]
     },
     "execution_count": 80,
     "metadata": {},
     "output_type": "execute_result"
    }
   ],
   "source": [
    "# обучим train\n",
    "\n",
    "train_genres = train_df.genres.to_list()\n",
    "\n",
    "X_train_CV = CV.fit_transform(train_genres)\n",
    "\n",
    "X_train_Tf = Tf.fit_transform(X_train_CV)\n",
    "\n",
    "model.fit(X_train_CV, train_df.mean_ratings)"
   ]
  },
  {
   "cell_type": "code",
   "execution_count": 81,
   "id": "593b2e53",
   "metadata": {},
   "outputs": [],
   "source": [
    "# предскажем test\n",
    "test_genres = test_df.genres.to_list()\n",
    "\n",
    "X_test_CV = CV.transform(test_genres)\n",
    "X_test_Tf = Tf.transform(X_test_CV)\n",
    "\n",
    "predicted = model.predict(X_test_CV)"
   ]
  },
  {
   "cell_type": "code",
   "execution_count": 82,
   "id": "5046aa51",
   "metadata": {},
   "outputs": [
    {
     "data": {
      "text/plain": [
       "0.1635053421837346"
      ]
     },
     "execution_count": 82,
     "metadata": {},
     "output_type": "execute_result"
    }
   ],
   "source": [
    "# получим RMSE на тестовой выборке\n",
    "mean_squared_error(test_df.mean_ratings, predicted)"
   ]
  },
  {
   "cell_type": "code",
   "execution_count": null,
   "id": "66d250b1",
   "metadata": {},
   "outputs": [],
   "source": []
  }
 ],
 "metadata": {
  "kernelspec": {
   "display_name": "Python 3",
   "language": "python",
   "name": "python3"
  },
  "language_info": {
   "codemirror_mode": {
    "name": "ipython",
    "version": 3
   },
   "file_extension": ".py",
   "mimetype": "text/x-python",
   "name": "python",
   "nbconvert_exporter": "python",
   "pygments_lexer": "ipython3",
   "version": "3.9.4"
  }
 },
 "nbformat": 4,
 "nbformat_minor": 5
}
